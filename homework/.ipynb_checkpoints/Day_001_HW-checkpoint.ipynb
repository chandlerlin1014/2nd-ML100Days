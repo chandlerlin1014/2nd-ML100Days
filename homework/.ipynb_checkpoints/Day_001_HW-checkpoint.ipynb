{
 "cells": [
  {
   "cell_type": "code",
   "execution_count": 1,
   "metadata": {},
   "outputs": [],
   "source": [
    "# Assignmeent 1: \n",
    "\n",
    "# 請上 Kaggle, 在 Competitions 或 Dataset 中找一組競賽或資料並寫下：\n",
    "\n",
    "#1. 你選的這組資料為何重要\n",
    "\"\"\"\n",
    "   Graduate Admissions\n",
    "    Predicting admission from important parameters \n",
    "    該資料集蒐集了數種申請美國大學碩士的重要成績資料,例如\n",
    "    1. GRE Scores ( out of 340 ) \n",
    "    2. TOEFL Scores ( out of 120 ) \n",
    "    3. University Rating ( out of 5 ) \n",
    "    4. Statement of Purpose and Letter of Recommendation Strength ( out of 5 ) \n",
    "    5. Undergraduate GPA ( out of 10 ) \n",
    "    6. Research Experience ( either 0 or 1 ) \n",
    "    7. Chance of Admit ( ranging from 0 to 1 )\n",
    "\"\"\"\n",
    "    \n",
    "#2. 資料從何而來 (tips: 譬如提供者是誰、以什麼方式蒐集)\n",
    "\"\"\"\n",
    "    資料來源為一學術論文: Mohan S Acharya, Asfia Armaan, Aneeta S Antony : \n",
    "    A Comparison of Regression Models for Prediction of Graduate Admissions, \n",
    "    IEEE International Conference on Computational Intelligence in Data Science 2019\n",
    "    資料來源可能從印度人組成的同鄉會或是相關學會獲得\n",
    "\"\"\"\n",
    "    \n",
    "#3. 蒐集而來的資料型態為何\n",
    "\"\"\"\n",
    "    CSV檔案, 數值\n",
    "\"\"\"\n",
    "#4. 這組資料想解決的問題如何評估\n",
    "\"\"\"\n",
    "    分類問題,可以用正確率來評估\n",
    "\"\"\""
   ]
  },
  {
   "cell_type": "code",
   "execution_count": 3,
   "metadata": {},
   "outputs": [],
   "source": [
    "# Assignment 2:\n",
    "\n",
    "# 想像你經營一個自由載客車隊，你希望能透過數據分析以提升業績，請你思考並描述你如何規劃整體的分析/解決方案：\n",
    "\n",
    "# 1. 核心問題為何 (tips：如何定義 「提升業績 & 你的假設」)\n",
    "\"\"\" \n",
    "    1.每位計程車成員的平均載客率, \n",
    "    2.載客時間/總工作時間, \n",
    "    3.趕赴接送客人的路徑里程數\n",
    "    4.客人提出需求到坐上計程車的時間\n",
    "\"\"\"\n",
    "\n",
    "# 2. 資料從何而來 (tips：哪些資料可能會對你想問的問題產生影響 & 資料如何蒐集)\n",
    "\"\"\"    \n",
    "    可以從訂製的APP資料中獲得\n",
    "\"\"\"\n",
    "\n",
    "# 3. 蒐集而來的資料型態為何\n",
    "\"\"\"    數值\n",
    "\"\"\"\n",
    "\n",
    "# 4. 你要回答的問題，其如何評估 (tips：你的假設如何驗證)\n",
    "\"\"\" \n",
    "    每位計程車成員的月收入\n",
    "\"\"\""
   ]
  },
  {
   "cell_type": "code",
   "execution_count": 1,
   "metadata": {},
   "outputs": [],
   "source": [
    "# Assignment 3:\n",
    "\n",
    "# 請點選下方檢視範例依照 Day_001_example_of_metrics.ipynb 完成 Mean Squared Error 的函式\n",
    "\n",
    "# 資料夾結構建立規則提醒：2nd-ML100Days > data資料夾 & homework資料夾 (ipynb檔) \n",
    "\n",
    "# (請注意data的存放位置，建議放在*.ipynb 同一個目錄下，這樣才能在不修改code的情況下正常執行)\n"
   ]
  },
  {
   "cell_type": "code",
   "execution_count": 2,
   "metadata": {},
   "outputs": [],
   "source": [
    "import numpy as np\n",
    "import matplotlib.pyplot as plt"
   ]
  },
  {
   "cell_type": "code",
   "execution_count": 3,
   "metadata": {},
   "outputs": [],
   "source": [
    "def mean_squared_error(y, yp):\n",
    "    \"\"\"\n",
    "    請完成這個 Function 後往下執行\n",
    "    \"\"\"\n",
    "    mse = sum(pow((y - yp), 2)) / len(y)\n",
    "    return mse"
   ]
  },
  {
   "cell_type": "code",
   "execution_count": 4,
   "metadata": {},
   "outputs": [],
   "source": [
    "def mean_absolute_error(y, yp):\n",
    "    \"\"\"\n",
    "    計算 MAE\n",
    "    Args:\n",
    "        - y: 實際值\n",
    "        - yp: 預測值\n",
    "    Return:\n",
    "        - mae: MAE\n",
    "    \"\"\"\n",
    "    mae = MAE = sum(abs(y - yp)) / len(y)\n",
    "    return mae"
   ]
  },
  {
   "cell_type": "code",
   "execution_count": 5,
   "metadata": {},
   "outputs": [
    {
     "data": {
      "image/png": "[encoded data removed]",
      "text/plain": [
       "<Figure size 432x288 with 1 Axes>"
      ]
     },
     "metadata": {},
     "output_type": "display_data"
    }
   ],
   "source": [
    "w = 3\n",
    "b = 0.5\n",
    "\n",
    "x_lin = np.linspace(0, 100, 101)\n",
    "\n",
    "y = (x_lin + np.random.randn(101) * 5) * w + b\n",
    "\n",
    "plt.plot(x_lin, y, 'b.', label = 'data points')\n",
    "plt.title(\"Assume we have data points\")\n",
    "plt.legend(loc = 2)\n",
    "plt.show()"
   ]
  },
  {
   "cell_type": "code",
   "execution_count": 6,
   "metadata": {},
   "outputs": [
    {
     "data": {
      "image/png": "[encoded data removed]",
      "text/plain": [
       "<Figure size 432x288 with 1 Axes>"
      ]
     },
     "metadata": {},
     "output_type": "display_data"
    }
   ],
   "source": [
    "y_hat = x_lin * w + b\n",
    "plt.plot(x_lin, y, 'b.', label = 'data')\n",
    "plt.plot(x_lin, y_hat, 'r-', label = 'prediction')\n",
    "plt.title(\"Assume we have data points (And the prediction)\")\n",
    "plt.legend(loc = 2)\n",
    "plt.show()"
   ]
  },
  {
   "cell_type": "code",
   "execution_count": 7,
   "metadata": {},
   "outputs": [
    {
     "name": "stdout",
     "output_type": "stream",
     "text": [
      "The Mean squared error is 193.350\n",
      "The Mean absolute error is 11.039\n"
     ]
    }
   ],
   "source": [
    "# 執行 Function, 確認有沒有正常執行\n",
    "MSE = mean_squared_error(y, y_hat)\n",
    "MAE = mean_absolute_error(y, y_hat)\n",
    "print(\"The Mean squared error is %.3f\" % (MSE))\n",
    "print(\"The Mean absolute error is %.3f\" % (MAE))"
   ]
  },
  {
   "cell_type": "code",
   "execution_count": null,
   "metadata": {},
   "outputs": [],
   "source": []
  }
 ],
 "metadata": {
  "kernelspec": {
   "display_name": "Python 3",
   "language": "python",
   "name": "python3"
  },
  "language_info": {
   "codemirror_mode": {
    "name": "ipython",
    "version": 3
   },
   "file_extension": ".py",
   "mimetype": "text/x-python",
   "name": "python",
   "nbconvert_exporter": "python",
   "pygments_lexer": "ipython3",
   "version": "3.6.5"
  }
 },
 "nbformat": 4,
 "nbformat_minor": 2
}
